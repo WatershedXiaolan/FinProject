{
 "cells": [
  {
   "cell_type": "code",
   "execution_count": null,
   "metadata": {},
   "outputs": [],
   "source": [
    "import sys\n",
    "from src.acts import *\n",
    "from src.aggregates import *\n",
    "from src.get_prices import *\n",
    "import pickle\n",
    "from datetime import date\n",
    "from src.plots import * \n",
    "\n",
    "# load files \n",
    "l_banks, l_brokers, l_gcs, l_robos = load_pkl_files()\n",
    "\n",
    "# set date \n",
    "d=date(2020,7,10)\n",
    "\n",
    "# check total balance \n",
    "print(\"Total Balance is {}\".format(sum_balance(l_banks+l_brokers+l_robos)))\n",
    "print(\"Total Gift Card Balance is {}\".format(sum_balance(l_gcs)))\n",
    "print(\"Total allocable balance is {}\".format(sum_allocable_balance(l_banks+l_brokers+l_robos)))\n",
    "\n"
   ]
  },
  {
   "cell_type": "code",
   "execution_count": null,
   "metadata": {},
   "outputs": [],
   "source": [
    "# check detailed balance\n",
    "get_all_account(l_banks+l_brokers+l_robos)\n",
    "get_all_account(l_gcs)\n"
   ]
  },
  {
   "cell_type": "code",
   "execution_count": null,
   "metadata": {},
   "outputs": [],
   "source": [
    "# get gift card balances\n",
    "get_gc_balance_by_cat(l_gc)"
   ]
  },
  {
   "cell_type": "code",
   "execution_count": null,
   "metadata": {},
   "outputs": [],
   "source": [
    "# get alert\n",
    "get_all_alerts(l_banks+l_brokers+l_robos)\n",
    "get_latest_alerts(l_banks+l_brokers+l_robos)\n",
    "\n",
    "# get restrictions\n",
    "get_all_restrictions(l_banks+l_brokers+l_robos)\n",
    "get_all_restrictions(l_gcs)"
   ]
  },
  {
   "cell_type": "code",
   "execution_count": null,
   "metadata": {},
   "outputs": [],
   "source": [
    "# get static prices \n",
    "prices = get_static_prices()\n",
    "temp = [n for n in names if n not in prices.keys()]\n",
    "assert temp==[], 'Please update price list'\n",
    "\n",
    "# get position\n",
    "tot_stock_amt, tot_etf_amt, tot_bond_amt, tot_mmf_amt, tot_cash_amt = \\\n",
    "    get_positions(prices, l_brokers, l_robos, l_banks)\n",
    "print(\"Stock: {}, bond: {}, cash: {}\".format(tot_stock_amt+tot_etf_amt, tot_bond_amt, tot_mmf_amt+tot_cash_amt))\n",
    "pie_chart_positions(tot_stock_amt+tot_etf_amt, tot_bond_amt, tot_mmf_amt+tot_cash_amt)\n"
   ]
  },
  {
   "cell_type": "code",
   "execution_count": null,
   "metadata": {},
   "outputs": [],
   "source": [
    "# perform transfer\n",
    "transfer(marcus_saving, chase_checking, 20000)\n"
   ]
  },
  {
   "cell_type": "code",
   "execution_count": null,
   "metadata": {},
   "outputs": [],
   "source": [
    "# save balance\n",
    "balances = output_balance(l_banks+l_brokers+l_robos, d=d)\n",
    "_ = write_balance(balances)\n",
    "balances = output_balance(l_gc, d=d)\n",
    "_ = write_balance(balances, filename='gc_balance.csv')\n",
    "# save files\n",
    "save_pkl_files(l_banks=l_banks, l_brokers=l_brokers, l_robos=l_robos, l_gcs=l_gc)"
   ]
  }
 ],
 "metadata": {
  "language_info": {
   "codemirror_mode": {
    "name": "ipython",
    "version": 3
   },
   "file_extension": ".py",
   "mimetype": "text/x-python",
   "name": "python",
   "nbconvert_exporter": "python",
   "pygments_lexer": "ipython3",
   "version": 3
  },
  "orig_nbformat": 2
 },
 "nbformat": 4,
 "nbformat_minor": 2
}